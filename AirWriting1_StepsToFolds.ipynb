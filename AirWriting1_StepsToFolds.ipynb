{
  "nbformat": 4,
  "nbformat_minor": 0,
  "metadata": {
    "colab": {
      "name": "AirWriting-StepsToFolds.ipynb",
      "provenance": [],
      "collapsed_sections": []
    },
    "language_info": {
      "codemirror_mode": {
        "name": "ipython",
        "version": 3
      },
      "file_extension": ".py",
      "mimetype": "text/x-python",
      "name": "python",
      "nbconvert_exporter": "python",
      "pygments_lexer": "ipython3",
      "version": "3.7.3"
    },
    "kernelspec": {
      "display_name": "Python 3",
      "language": "python",
      "name": "python3"
    }
  },
  "cells": [
    {
      "cell_type": "markdown",
      "metadata": {
        "id": "SWUeoNNY_Eoy",
        "colab_type": "text"
      },
      "source": [
        "### Inicio\n",
        "\n",
        "Se comenzó con una base de daros no procesada que contenía los videos grabados por el grupo con rangos de tiempo de entre 80 y 90 segundos. Con esto se procedío a generar los videos cortos (de dos segundos cada uno), consiguiendo entre 20 y 23 videos cortos por Video grabado."
      ]
    },
    {
      "cell_type": "markdown",
      "metadata": {
        "id": "A2TRTMP__Eoz",
        "colab_type": "text"
      },
      "source": [
        "### Extracción de videos cortos\n",
        "El siguiente código se usó descargandolo como formato _.py_ y se pegó en cada carpeta con el nombre de los integrantes _(/0/NombreIntegrante/)_ para luego ser ejecutados individualmente."
      ]
    },
    {
      "cell_type": "code",
      "metadata": {
        "id": "KCLXQ967_Eo0",
        "colab_type": "code",
        "colab": {}
      },
      "source": [
        "from moviepy.video.io.ffmpeg_tools import ffmpeg_extract_subclip\n",
        "import os\n",
        "\n",
        "for j in range(4):\n",
        "    # Crea los directorios (Carpetas)\n",
        "    try:\n",
        "        os.stat(\"ShortVideos%d\" % (j+1))   # Revisa si está el directorio\n",
        "    except:\n",
        "        os.mkdir(\"ShortVideos%d\" % (j+1))  # Si no está lo crea\n",
        "    \n",
        "    \n",
        "    t1 = 0\n",
        "    t2 = 2.4 \n",
        "    success = True\n",
        "    for i in range(30):\n",
        "        jcount = j + 1\n",
        "        icount = i + 1\n",
        "        \n",
        "        ffmpeg_extract_subclip(\"Video%d.mp4\" % jcount, t1, t2, targetname=\"ShortVideos%d/ShortVideo%d.mp4\" % (jcount, icount))\n",
        "        t1 = t1 + 4\n",
        "        t2 = t2 + 4"
      ],
      "execution_count": null,
      "outputs": []
    },
    {
      "cell_type": "markdown",
      "metadata": {
        "id": "BMnM9wy3_Eo5",
        "colab_type": "text"
      },
      "source": [
        "El siguiente código es la versión que no necesita ser descargada para ser pegada en cada carpeta _nombre_. Este código no fué el usado pero cumple la misma funcion de forma automática."
      ]
    },
    {
      "cell_type": "code",
      "metadata": {
        "id": "r1Ju2CpX_Eo5",
        "colab_type": "code",
        "colab": {}
      },
      "source": [
        "from moviepy.video.io.ffmpeg_tools import ffmpeg_extract_subclip\n",
        "import os\n",
        "\n",
        "Integrantes = [\"Barbara Farías\", \"Gabriel Gonzalez\", \"Javier Briones\", \"José Martínez\"]\n",
        "\n",
        "\n",
        "for NumberFolders in range(11): # Recorre desde la carpeta \"0\" a la \"10\"\n",
        "\n",
        "    for IntegrantFolders in range(len(Integrantes)): # Recorre todas las carpetas con los nombres de los integrantes\n",
        "    \n",
        "        for VideosFolders in range(4): # recorre carpetas Videos\n",
        "\n",
        "            for j in range(4):\n",
        "                # Crea los directorios (Carpetas)\n",
        "                try:\n",
        "                    os.stat(\"%d/%s/ShortVideos%d\" % (NumberFolders, Integrantes[IntegrantFolders], (j+1)))   # Revisa si está el directorio\n",
        "                except:\n",
        "                    os.mkdir(\"%d/%s/ShortVideos%d\" % (NumberFolders, Integrantes[IntegrantFolders], (j+1)))  # Si no está lo crea\n",
        "\n",
        "\n",
        "                t1 = 0\n",
        "                t2 = 2.4 \n",
        "                success = True\n",
        "                for i in range(30):\n",
        "                    jcount = j + 1\n",
        "                    icount = i + 1\n",
        "                    ffmpeg_extract_subclip(\"%d/%s/Video%d.mp4\" % (NumberFolders, Integrantes[IntegrantFolders], jcount), \n",
        "                                           t1, t2, \n",
        "                                           targetname=\"%d/%s/ShortVideos%d/ShortVideo%d.mp4\" % (NumberFolders, Integrantes[IntegrantFolders], jcount, icount))\n",
        "                    t1 = t1 + 4\n",
        "                    t2 = t2 + 4\n"
      ],
      "execution_count": null,
      "outputs": []
    },
    {
      "cell_type": "markdown",
      "metadata": {
        "id": "nPJQoBsi_Eo7",
        "colab_type": "text"
      },
      "source": [
        "### Extracción de imagenes de los videos cortos\n",
        "Después los videos cortos (ShortVideos) se procesarón para extraer las imagenes con sus respectivo formato final, los cuales son:\n",
        "* Redimensión de la imagen.\n",
        "* Cambia de colores a escala de grises\n",
        "* Rotación de videos (esto debido a que por algún motivo la cámara del celular guardó los videos en landscape)\n",
        "\n",
        "Con esto se generaron las muestras en las carpetas _Frames_, quedando entre ~30 y ~70 imagenes por muestra.  "
      ]
    },
    {
      "cell_type": "markdown",
      "metadata": {
        "id": "7MHyMUZ4_Eo8",
        "colab_type": "text"
      },
      "source": [
        "El siguiente código se usó descargandolo como formato .py y se pegó en cada carpeta ShortVideos _(/0/NombreIntegrante/ShortVideos)_."
      ]
    },
    {
      "cell_type": "code",
      "metadata": {
        "id": "eWbXQZ-__Eo8",
        "colab_type": "code",
        "colab": {}
      },
      "source": [
        "# Program To Read video \n",
        "# and Extract Frames \n",
        "import cv2\n",
        "import os\n",
        "from scipy import ndimage\n",
        "# Function to extract frames \n",
        "def FrameCapture(path, NumDir, Dim): \n",
        "    # Path to video file \n",
        "    vidObj = cv2.VideoCapture(path) \n",
        "    # Used as counter variable \n",
        "    count = 1\n",
        "    # checks whether frames were extracted \n",
        "    success = 1\n",
        "    while success:\n",
        "        # vidObj object calls read\n",
        "        # function extract frames\n",
        "        success, image = vidObj.read()\n",
        "        if success:\n",
        "            # Se cambia el tamaño a 128 * 128 pixeles\n",
        "            ImgResized = cv2.resize(image, Dim, interpolation = cv2.INTER_AREA)\n",
        "            # De color a Escala de grises\n",
        "            ImgToGrey = cv2.cvtColor(ImgResized, cv2.COLOR_BGR2GRAY)\n",
        "            # Rotación en 270 grados\n",
        "            ImgRotation = ndimage.rotate(ImgToGrey, 270)\n",
        "            # Saves the frames with frame-count\n",
        "            cv2.imwrite(\"Frames%d/Frame%d.jpg\" % (NumDir, count), ImgRotation)\n",
        "            count += 1\n",
        "# Driver Code \n",
        "if __name__ == '__main__': \n",
        "    # Calling the function \n",
        "    # Crea los directorios (Carpetas)\n",
        "    \n",
        "    Width = 128\n",
        "    Height = 128\n",
        "    Dimension = (Width, Height)\n",
        "    \n",
        "    \n",
        "    for i in range(3):\n",
        "        try:\n",
        "            os.stat(\"Frames%d\" % (i+1))   # Revisa si está el directorio\n",
        "        except:\n",
        "            os.mkdir(\"Frames%d\" % (i+1))  # Si no está lo crea\n",
        "        FrameCapture(\"ShortVideo%d.mp4\" % (i+1), i+1, Dimension) "
      ],
      "execution_count": null,
      "outputs": []
    },
    {
      "cell_type": "markdown",
      "metadata": {
        "id": "b18DQnPY_Eo_",
        "colab_type": "text"
      },
      "source": [
        "El siguiente código es la versión que no necesita ser descargada para ser pegada en cada carpeta ShortVideos. Este código no fué el usado pero cumple la misma funcion de forma automática."
      ]
    },
    {
      "cell_type": "code",
      "metadata": {
        "id": "n6eMOo93_Eo_",
        "colab_type": "code",
        "colab": {}
      },
      "source": [
        "# Program To Read video \n",
        "# and Extract Frames \n",
        "import cv2\n",
        "import os\n",
        "from scipy import ndimage\n",
        "# Function to extract frames \n",
        "def FrameCapture(path, NumDir, Dim, NumberFolders, IntegrantFolders, Integrantes, VideosFolders): \n",
        "    # Path to video file \n",
        "    vidObj = cv2.VideoCapture(path) \n",
        "    # Used as counter variable \n",
        "    count = 1\n",
        "    # checks whether frames were extracted \n",
        "    success = 1\n",
        "    while success:\n",
        "        # vidObj object calls read\n",
        "        # function extract frames\n",
        "        success, image = vidObj.read()\n",
        "        if success:\n",
        "            # Se cambia el tamaño a 128 * 128 pixeles\n",
        "            ImgResized = cv2.resize(image, Dim, interpolation = cv2.INTER_AREA)\n",
        "            # De color a Escala de grises\n",
        "            ImgToGrey = cv2.cvtColor(ImgResized, cv2.COLOR_BGR2GRAY)\n",
        "            # Rotación en 270 grados\n",
        "            ImgRotation = ndimage.rotate(ImgToGrey, 270)\n",
        "            # Saves the frames with frame-count\n",
        "            cv2.imwrite(\"%d/%s/VideoSet%d/Frames%d/Frame%d.jpg\" % \n",
        "                        (NumberFolders, Integrantes[IntegrantFolders], VideosFolders, NumDir, count),\n",
        "                        ImgRotation)\n",
        "            count += 1\n",
        "if __name__ == '__main__': \n",
        "    # Crea los directorios (Carpetas)\n",
        "    \n",
        "    Width = 128\n",
        "    Height = 128\n",
        "    Dimension = (Width, Height)\n",
        "    Integrantes = [\"Barbara Farías\", \"Gabriel Gonzalez\", \"Javier Briones\", \"José Martínez\"]\n",
        "    \n",
        "    for NumberFolders in range(11): # Recorre desde la carpeta \"0\" a la \"10\"\n",
        "\n",
        "        for IntegrantFolders in range(len(Integrantes)): # Recorre todas las carpetas con los nombres de los integrantes\n",
        "\n",
        "            for VideosFolders in range(4): # recorre carpetas Videos\n",
        "    \n",
        "                for i in range(30):\n",
        "                    try:\n",
        "                        os.stat(\"%d/%s/ShortVideos%d/Frames%d/\" % \n",
        "                        (NumberFolders, Integrantes[IntegrantFolders], VideosFolders, (i+1))   # Revisa si está el directorio\n",
        "                    except:\n",
        "                        os.mkdir(\"%d/%s/ShortVideos%d/Frames%d/\" % \n",
        "                        (NumberFolders, Integrantes[IntegrantFolders], VideosFolders, (i+1))  # Si no está lo crea\n",
        "                    FrameCapture(\"%d/%s/ShortVideos%d/ShortVideo%d.mp4\" % (NumberFolders, Integrantes[IntegrantFolders], VideosFolders, (i+1)),\n",
        "                                 i+1, Dimension, NumberFolders, IntegrantFolders, Integrantes, (VideosFolders+1)) "
      ],
      "execution_count": null,
      "outputs": []
    },
    {
      "cell_type": "markdown",
      "metadata": {
        "id": "LJB8HpRz_EpB",
        "colab_type": "text"
      },
      "source": [
        "### Agrupación de las muestras\n",
        "Para pasar las muestras de manera random a las carpetas _Fold_ pedidas, se creo una nueva carpeta llamada _Assistant_ que permitío agrupar todas las muestras _0_ en una carpeta, todas las muestras _1_ en otra y así.\n",
        "\n",
        "Para no perder información en el proceso (Nombre de quien hizo la muestra y numero de muestra), el nuevo nombre de la muestra se dividió en tres partes:\n",
        "Sample-XX-#####\n",
        "* Sample: Esta solo indica que corresponde a una muestra, todas las carpetas llevan _Sample_.\n",
        "* XX: Esta indica las iniciales de quién hizo la muestra.\n",
        " * BF: Barbara Farías\n",
        " * GG: Gabriel Gonzalez\n",
        " * JB: Jabier Briones\n",
        " * JM: José Martínez\n",
        "* #####: Corresponde a numeros y está dividido en dos partes:\n",
        " * ##: Los primeros dos numeros corresponden a la muestra dibujada (de 00 a 10)\n",
        " * ###: Los tres últimos números corresponden al número id de la muestra (de 1 a 320)\n",
        "\n",
        "Cada integrante realizó 80 muestras por numero dibujado, esto significa que por cada _##_ hay 80 _###_, quedando por ejemplo en la carpeta _\"Assistant/0\":_\n",
        "\n",
        "Sample-BF-00001\n",
        "\n",
        "...\n",
        "\n",
        "Sample-BF-00080\n",
        "\n",
        "Sample-GG-00081\n",
        "\n",
        "...\n",
        "\n",
        "Sample-GG-00160\n",
        "\n",
        "Sample-JB-00161\n",
        "\n",
        "...\n",
        "\n",
        "Sample-JB-00240\n",
        "\n",
        "Sample-JM-00241\n",
        "\n",
        "...\n",
        "\n",
        "Sample-JM-00320"
      ]
    },
    {
      "cell_type": "code",
      "metadata": {
        "id": "_JRGw1Ds_EpC",
        "colab_type": "code",
        "colab": {}
      },
      "source": [
        "import os\n",
        "import shutil\n",
        "\n",
        "# Se crea el la carpeta Folds si no está\n",
        "try:\n",
        "    os.stat(\"Folds\")  # Revisa si está el directorio\n",
        "except:\n",
        "    os.mkdir(\"Folds\") # Si no está lo crea \n",
        "\n",
        "# Se crean los 5 Fold\n",
        "for i in range(5):\n",
        "    try:\n",
        "        os.stat(\"Folds/Fold%d\" % (i+1))\n",
        "    except:\n",
        "        os.mkdir(\"Folds/Fold%d\" % (i+1))\n",
        "\n",
        "# Se crean carpetas fold/Numeros\n",
        "for j in range(5):\n",
        "    for i in range(11):\n",
        "        try:\n",
        "            os.stat(\"Folds/Fold%d/%d\" % ((j+1), i))\n",
        "        except:\n",
        "            os.mkdir(\"Folds/Fold%d/%d\" % ((j+1), i))\n",
        "\n",
        "# Creacion de Carpeta Assistant\n",
        "try:\n",
        "    os.stat(\"Assistant\") \n",
        "except:\n",
        "    os.mkdir(\"Assistant\") \n",
        "\n",
        "# Creacion de Carpetas Assistant/Numeros\n",
        "for i in range(11):\n",
        "    try:\n",
        "        os.stat(\"Assistant/%d\" % i)\n",
        "    except:\n",
        "        os.mkdir(\"Assistant/%d\" % i)\n",
        "\n",
        "\n",
        "Integrantes = [\"Barbara Farías\", \"Gabriel Gonzalez\", \"Javier Briones\", \"José Martínez\"]\n",
        "ShortName = [\"BF\", \"GG\", \"JB\", \"JM\"]\n",
        "\n",
        "\n",
        "for NumberFolders in range(11): # Recorre desde la carpeta \"0\" a la \"10\"\n",
        "    CountSample = 1\n",
        "    for IntegrantFolders in range(len(Integrantes)): # Recorre todas las carpetas con los nombres de los integrantes\n",
        "    \n",
        "        for SetFolders in range(4): # recorre carpetas LittleVideos\n",
        "            \n",
        "            for FramesExtracted in range(20) # recorre 20 carpetas frames que corresponden a las muestras\n",
        "            \n",
        "                shutil.copytree(\"%d/%s/ShortVideos%d/Frames%d\" % (NumberFolders, Integrantes[IntegrantFolders], (SetFolders+1), (FramesExtracted+1)), \n",
        "                                \"Assistant/%d/Sample-%s-%02d%03d\" % (NumberFolders, ShortName[IntegrantFolders], NumberFolders, CountSample))\n",
        "                CountSample = CountSample + 1"
      ],
      "execution_count": null,
      "outputs": []
    },
    {
      "cell_type": "markdown",
      "metadata": {
        "id": "j7Y9yYTZ_EpE",
        "colab_type": "text"
      },
      "source": [
        "### LLenado de las carpetas Fold\n",
        "Esté código recorre cada numero de la carpeta Assistant (Ej: Assistant/0; Assistant/1,...Assistant/10) y, por ejemplo, de manera random mueve 64 carpetas Samples de _Assistant/0_ a _Fold/Fold1/0/_, luego, de la misma carpeta _assistant/0_ mueve 64 muestras mas de manera random y así sigue hasta terminar la carpeta y el arbol de carpetas. "
      ]
    },
    {
      "cell_type": "code",
      "metadata": {
        "id": "W33qim5g_EpE",
        "colab_type": "code",
        "colab": {}
      },
      "source": [
        "from distutils.dir_util import copy_tree\n",
        "import shutil\n",
        "import random\n",
        "import os\n",
        "import os.path as path\n",
        "for NumberFolderFd in range(11):\n",
        "    for NumberFolderAs in range(5):\n",
        "        Contador = 1\n",
        "        for FoldsNumber in range(64):\n",
        "            File = random.choice(os.listdir(\"Assistant/%d/\" % NumberFolderFd))\n",
        "            shutil.move(\"Assistant/%d/%s\" % (NumberFolderFd, File), \"Folders/Fold%d/%d/%s\" % ((NumberFolderAs+1), NumberFolderFd, File))\n",
        "    "
      ],
      "execution_count": null,
      "outputs": []
    },
    {
      "cell_type": "markdown",
      "metadata": {
        "id": "oZD_znqU_EpH",
        "colab_type": "text"
      },
      "source": [
        "### Reducción de frames excedentes a 20 por Muestra\n",
        "Este código recorre el arbol de carpetas _\"fold\"_ por completo revisando la cantidad de archivos (imagenes) en cada carpeta \"muestra\" (sample-XX-## ###). Tomando la cantidad de imagenes el programa es capaz de saber cuantas imagenes debe borrar para dejar solo 20 imagenes.\n",
        "\n",
        "Primero borra la cantidad que debe borrar de la manera mas equitativa posible, pero eso significa que pueden quedar mas de 20 imagenes, por lo tanto el resto se borra con la funcion random.choice.\n",
        "\n",
        "Ej: Hay 43 imagenes; se deben borrar 23; 43 mod 23 es 1.8; se aproxima a 2; se borran los multiplos de 2; en total se borraron 21 imagenes; el remanente a eliminar de forma random es igual a 2; se borran los dos con un random; quedan 20 imagenes"
      ]
    },
    {
      "cell_type": "code",
      "metadata": {
        "id": "sDWXRUdn_EpH",
        "colab_type": "code",
        "colab": {}
      },
      "source": [
        "import shutil\n",
        "import random\n",
        "import os\n",
        "\n",
        "ShortName = [\"BF\", \"GG\", \"JB\", \"JM\"]\n",
        "\n",
        "for FoldNumber in range(5):\n",
        "    for NumberFolder in range(11):\n",
        "        NumberName = 0 # contador de samples revisados\n",
        "        for SampleNumber in range(320): # revisa sample por sample\n",
        "            \n",
        "            if SampleNumber == 80 or SampleNumber == 160 or SampleNumber == 240: # para recorrer ShortName[NumberName]\n",
        "                NumberName = NumberName + 1\n",
        "            if (os.path.isdir(\"Folders/Fold%d/%d/Sample-%s-%02d%03d\" % ((FoldNumber+1), NumberFolder, ShortName[NumberName], NumberFolder, (SampleNumber+1)))): # lo siguiente se realiza solo si el directorio se encuentra\n",
        "                FilesList = os.listdir(\"Folders/Fold%d/%d/Sample-%s-%02d%03d\" % ((FoldNumber+1), NumberFolder, ShortName[NumberName], NumberFolder, (SampleNumber+1)))\n",
        "                FilesCount = len(FilesList) # cantidad de archivos en carpeta samples\n",
        "                DeleteCount = FilesCount - 20\n",
        "                \n",
        "                if (DeleteCount > 0):\n",
        "                    Jumper = round(FilesCount/DeleteCount) # Determina cada cuanto se borra un archivo\n",
        "                    if (Jumper == 1): # en caso de que se haya aproximado un 1.4 a 1, se evita borrar todos los archivos\n",
        "                        Jumper = 2\n",
        "                    DeletedAtMoment = 0 # lleva cuenta de eliminados\n",
        "                    for NumberOfFrame in range(FilesCount): # avanza por cada frame que hay en carpeta samples\n",
        "                        if ((NumberOfFrame+1) % Jumper == 0):\n",
        "                            if (len(os.listdir(\"Folders/Fold%d/%d/Sample-%s-%02d%03d\" % ((FoldNumber+1), NumberFolder, ShortName[NumberName], NumberFolder, (SampleNumber+1))))) > 20:\n",
        "                                os.remove(\"Folders/Fold%d/%d/Sample-%s-%02d%03d/Frame%d.jpg\" % ((FoldNumber+1), NumberFolder, ShortName[NumberName], NumberFolder, (SampleNumber+1),(NumberOfFrame+1)))\n",
        "                                DeletedAtMoment = DeletedAtMoment + 1\n",
        "                    \n",
        "                    Remanent = DeleteCount - DeletedAtMoment\n",
        "                    if (Remanent > 0):  # si al terminar el for quedó 1 o mas archivos sin borrar (quedaron mas de 20)\n",
        "                                        # se borra al azar Remanent veces (lo que faltó por eliminar para llegar a 20)\n",
        "                        for i in range(Remanent):\n",
        "                            if (len(os.listdir(\"Folders/Fold%d/%d/Sample-%s-%02d%03d\" % ((FoldNumber+1), NumberFolder, ShortName[NumberName], NumberFolder, (SampleNumber+1))))) > 20:\n",
        "                                Files = os.listdir(\"Folders/Fold%d/%d/Sample-%s-%02d%03d\" % ((FoldNumber+1), NumberFolder, ShortName[NumberName], NumberFolder, (SampleNumber+1)))\n",
        "                                RandomChoice = random.choice(Files)\n",
        "                                os.remove(\"Folders/Fold%d/%d/Sample-%s-%02d%03d/%s\" % ((FoldNumber+1), NumberFolder, ShortName[NumberName], NumberFolder, (SampleNumber+1), RandomChoice))\n",
        "\n",
        "\n"
      ],
      "execution_count": null,
      "outputs": []
    },
    {
      "cell_type": "code",
      "metadata": {
        "id": "-0pn9JFOpWzx",
        "colab_type": "code",
        "colab": {}
      },
      "source": [
        "import os\n",
        "import shutil\n",
        "\n",
        "# Se crea el la carpeta Folds si no está\n",
        "try:\n",
        "    os.stat(\"Folds\")  # Revisa si está el directorio\n",
        "except:\n",
        "    os.mkdir(\"Folds\") # Si no está lo crea \n",
        "\n",
        "# Se crean los 5 Fold\n",
        "for i in range(5):\n",
        "    try:\n",
        "        os.stat(\"Folds/Fold%d\" % (i+1))\n",
        "    except:\n",
        "        os.mkdir(\"Folds/Fold%d\" % (i+1))\n",
        "\n",
        "# Se crean carpetas fold/Numeros\n",
        "for j in range(5):\n",
        "    for i in range(11):\n",
        "        try:\n",
        "            os.stat(\"Folds/Fold%d/%d\" % ((j+1), i))\n",
        "        except:\n",
        "            os.mkdir(\"Folds/Fold%d/%d\" % ((j+1), i))\n",
        "\n",
        "# Creacion de Carpeta Assistant\n",
        "try:\n",
        "    os.stat(\"Assistant\") \n",
        "except:\n",
        "    os.mkdir(\"Assistant\") \n",
        "\n",
        "# Creacion de Carpetas Assistant/Numeros\n",
        "for i in range(11):\n",
        "    try:\n",
        "        os.stat(\"Assistant/%d\" % i)\n",
        "    except:\n",
        "        os.mkdir(\"Assistant/%d\" % i)\n",
        "\n",
        "\n",
        "Integrantes = [\"Barbara Farías\", \"Gabriel Gonzalez\", \"Javier Briones\", \"José Martínez\"]\n",
        "ShortName = [\"BF\", \"GG\", \"JB\", \"JM\"]\n",
        "\n",
        "\n",
        "for NumberFolders in range(11): # Recorre desde la carpeta \"0\" a la \"10\"\n",
        "    CountSample = 1\n",
        "    for IntegrantFolders in range(len(Integrantes)): # Recorre todas las carpetas con los nombres de los integrantes\n",
        "    \n",
        "        for SetFolders in range(4): # recorre carpetas LittleVideos\n",
        "            \n",
        "            for FramesExtracted in range(20) # recorre 20 carpetas frames que corresponden a las muestras\n",
        "                if os.path.isdir(\"%d/%s/ShortVideos%d/Frames%d\" % (NumberFolders, Integrantes[IntegrantFolders], (SetFolders+1), (FramesExtracted+1))): # lo siguiente se realiza solo si el directorio se encuentra\n",
        "                  shutil.copytree(\"%d/%s/ShortVideos%d/Frames%d\" % (NumberFolders, Integrantes[IntegrantFolders], (SetFolders+1), (FramesExtracted+1)), \n",
        "                                \"Assistant/%d/Sample-%s-%02d%03d\" % (NumberFolders, ShortName[IntegrantFolders], NumberFolders, CountSample))\n",
        "                CountSample = CountSample + 1\n",
        "\n",
        "\n",
        "\n",
        "\n",
        "\n",
        "\n"
      ],
      "execution_count": null,
      "outputs": []
    }
  ]
}